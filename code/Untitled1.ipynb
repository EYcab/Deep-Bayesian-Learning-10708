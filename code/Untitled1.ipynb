{
 "cells": [
  {
   "cell_type": "code",
   "execution_count": 2,
   "metadata": {
    "collapsed": true
   },
   "outputs": [],
   "source": [
    "import numpy as np\n",
    "import tensorflow as tf\n",
    "import tensorflow.contrib.seq2seq as seq2seq\n"
   ]
  },
  {
   "cell_type": "code",
   "execution_count": 2,
   "metadata": {
    "collapsed": true
   },
   "outputs": [],
   "source": [
    "def sampled_softmax(inputs, labels):\n",
    "    labels = tf.reshape(labels, [-1, 1])  # Add one dimension (nb of true classes, here 1)\n",
    "\n",
    "    # We need to compute the sampled_softmax_loss using 32bit floats to\n",
    "    # avoid numerical instabilities.\n",
    "    local_wt = tf.cast(output_projection.W_t, tf.float32)\n",
    "    local_b = tf.cast(output_projection.b, tf.float32)\n",
    "    local_inputs = tf.cast(inputs, tf.float32)\n",
    "\n",
    "    return tf.cast(\n",
    "        tf.nn.sampled_softmax_loss(\n",
    "            local_wt,  # Should have shape [num_classes, dim]\n",
    "            local_b,\n",
    "            labels,\n",
    "            local_inputs,\n",
    "            self.args.softmaxSamples,  # The number of classes to randomly sample per batch\n",
    "            self.textData.getVocabularySize()),  # The number of classes\n",
    "        self.dtype)"
   ]
  },
  {
   "cell_type": "code",
   "execution_count": 11,
   "metadata": {
    "collapsed": false
   },
   "outputs": [
    {
     "data": {
      "text/plain": [
       "array([[1, 0, 1, ..., 0, 0, 0],\n",
       "       [7, 0, 2, ..., 0, 0, 0],\n",
       "       [0, 0, 0, ..., 0, 0, 0],\n",
       "       ..., \n",
       "       [1, 0, 1, ..., 0, 0, 0],\n",
       "       [1, 0, 1, ..., 0, 0, 0],\n",
       "       [1, 0, 1, ..., 0, 0, 0]], dtype=int32)"
      ]
     },
     "execution_count": 11,
     "metadata": {},
     "output_type": "execute_result"
    }
   ],
   "source": [
    "self.loss_reconstruct = tf.reduce_sum(seq2seq.sequence_loss(\n",
    "    logits=decoder_logits_train,\n",
    "    targets=decoder_targets,\n",
    "    weights=decoder_weights,\n",
    "    softmax_loss_function=sampled_softmax,\n",
    "    average_across_timesteps=False,\n",
    "    average_across_batch=True)\n",
    ")"
   ]
  },
  {
   "cell_type": "code",
   "execution_count": null,
   "metadata": {
    "collapsed": true
   },
   "outputs": [],
   "source": [
    "decoder_logits_train = "
   ]
  }
 ],
 "metadata": {
  "kernelspec": {
   "display_name": "Python 2",
   "language": "python",
   "name": "python2"
  },
  "language_info": {
   "codemirror_mode": {
    "name": "ipython",
    "version": 2
   },
   "file_extension": ".py",
   "mimetype": "text/x-python",
   "name": "python",
   "nbconvert_exporter": "python",
   "pygments_lexer": "ipython2",
   "version": "2.7.13"
  }
 },
 "nbformat": 4,
 "nbformat_minor": 2
}
