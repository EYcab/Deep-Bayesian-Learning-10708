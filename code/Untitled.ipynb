{
 "cells": [
  {
   "cell_type": "code",
   "execution_count": 1,
   "metadata": {
    "collapsed": true
   },
   "outputs": [],
   "source": [
    "import numpy as np\n",
    "\n",
    "x_train = np.linspace(-3, 3, num=50)\n",
    "y_train = np.cos(x_train) + np.random.normal(0, 0.1, size=50)\n",
    "x_train = x_train.astype(np.float32).reshape((50, 1))\n",
    "y_train = y_train.astype(np.float32).reshape((50, 1))"
   ]
  },
  {
   "cell_type": "code",
   "execution_count": 3,
   "metadata": {
    "collapsed": false
   },
   "outputs": [],
   "source": [
    "import tensorflow as tf\n",
    "from edward.models import Normal\n",
    "\n",
    "W_0 = Normal(mu=tf.zeros([1, 2]), sigma=tf.ones([1, 2]))\n",
    "W_1 = Normal(mu=tf.zeros([2, 1]), sigma=tf.ones([2, 1]))\n",
    "b_0 = Normal(mu=tf.zeros(2), sigma=tf.ones(2))\n",
    "b_1 = Normal(mu=tf.zeros(1), sigma=tf.ones(1))\n",
    "\n",
    "x = x_train\n",
    "y = Normal(mu=tf.matmul(tf.tanh(tf.matmul(x, W_0) + b_0), W_1) + b_1,\n",
    "           sigma=0.1)"
   ]
  },
  {
   "cell_type": "code",
   "execution_count": 5,
   "metadata": {
    "collapsed": false
   },
   "outputs": [
    {
     "data": {
      "text/plain": [
       "<ed.RandomVariable 'Normal/' shape=(1, 2) dtype=tf.float32>"
      ]
     },
     "execution_count": 5,
     "metadata": {},
     "output_type": "execute_result"
    }
   ],
   "source": [
    "W_0"
   ]
  },
  {
   "cell_type": "code",
   "execution_count": 4,
   "metadata": {
    "collapsed": true
   },
   "outputs": [],
   "source": [
    "qW_0 = Normal(mu=tf.Variable(tf.zeros([1, 2])),\n",
    "              sigma=tf.nn.softplus(tf.Variable(tf.zeros([1, 2]))))\n",
    "qW_1 = Normal(mu=tf.Variable(tf.zeros([2, 1])),\n",
    "              sigma=tf.nn.softplus(tf.Variable(tf.zeros([2, 1]))))\n",
    "qb_0 = Normal(mu=tf.Variable(tf.zeros(2)),\n",
    "              sigma=tf.nn.softplus(tf.Variable(tf.zeros(2))))\n",
    "qb_1 = Normal(mu=tf.Variable(tf.zeros(1)),\n",
    "              sigma=tf.nn.softplus(tf.Variable(tf.zeros(1))))"
   ]
  },
  {
   "cell_type": "code",
   "execution_count": 6,
   "metadata": {
    "collapsed": false
   },
   "outputs": [
    {
     "name": "stdout",
     "output_type": "stream",
     "text": [
      "Iteration    1 [  0%]: Loss = 1453.715\n",
      "Iteration  100 [ 10%]: Loss = 1134.368\n",
      "Iteration  200 [ 20%]: Loss = 408.481\n",
      "Iteration  300 [ 30%]: Loss = -14.630\n",
      "Iteration  400 [ 40%]: Loss = -1.013\n",
      "Iteration  500 [ 50%]: Loss = -4.607\n",
      "Iteration  600 [ 60%]: Loss = 6.503\n",
      "Iteration  700 [ 70%]: Loss = -6.592\n",
      "Iteration  800 [ 80%]: Loss = 0.198\n",
      "Iteration  900 [ 90%]: Loss = -14.907\n",
      "Iteration 1000 [100%]: Loss = 2.080\n"
     ]
    }
   ],
   "source": [
    "import edward as ed\n",
    "\n",
    "inference = ed.KLqp({W_0: qW_0, b_0: qb_0,\n",
    "                     W_1: qW_1, b_1: qb_1}, data={y: y_train})\n",
    "inference.run(n_iter=1000)"
   ]
  }
 ],
 "metadata": {
  "kernelspec": {
   "display_name": "Python 2",
   "language": "python",
   "name": "python2"
  },
  "language_info": {
   "codemirror_mode": {
    "name": "ipython",
    "version": 2
   },
   "file_extension": ".py",
   "mimetype": "text/x-python",
   "name": "python",
   "nbconvert_exporter": "python",
   "pygments_lexer": "ipython2",
   "version": "2.7.13"
  }
 },
 "nbformat": 4,
 "nbformat_minor": 2
}
