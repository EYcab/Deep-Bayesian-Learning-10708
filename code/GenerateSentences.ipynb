{
 "cells": [
  {
   "cell_type": "code",
   "execution_count": 2,
   "metadata": {
    "collapsed": false
   },
   "outputs": [
    {
     "name": "stderr",
     "output_type": "stream",
     "text": [
      "\r",
      "OpenSubtitles data files:   0%|          | 0/2327 [00:00<?, ?it/s]"
     ]
    },
    {
     "name": "stdout",
     "output_type": "stream",
     "text": [
      "Loading OpenSubtitles conversations in /Users/xupengtong/Courses/10708/10708 project/others/DeepQA/data/opensubs/.\n"
     ]
    },
    {
     "name": "stderr",
     "output_type": "stream",
     "text": [
      "OpenSubtitles data files:  17%|█▋        | 405/2327 [01:11<05:35,  5.73it/s]"
     ]
    },
    {
     "name": "stdout",
     "output_type": "stream",
     "text": [
      "Skipping file /Users/xupengtong/Courses/10708/10708 project/others/DeepQA/data/opensubs/Action/2003/602_152466_207871_batoru_rowaiaru_ii_rekuiemu.xml.gz with errors.\n"
     ]
    },
    {
     "name": "stderr",
     "output_type": "stream",
     "text": [
      "OpenSubtitles data files:  21%|██        | 489/2327 [01:25<03:43,  8.21it/s]"
     ]
    },
    {
     "name": "stdout",
     "output_type": "stream",
     "text": [
      "Skipping file /Users/xupengtong/Courses/10708/10708 project/others/DeepQA/data/opensubs/Action/2004/59_84873_113518_appurushdo.xml.gz with errors.\n"
     ]
    },
    {
     "name": "stderr",
     "output_type": "stream",
     "text": [
      "OpenSubtitles data files:  52%|█████▏    | 1200/2327 [04:23<04:54,  3.83it/s]"
     ]
    },
    {
     "name": "stdout",
     "output_type": "stream",
     "text": [
      "Skipping file /Users/xupengtong/Courses/10708/10708 project/others/DeepQA/data/opensubs/Comedy/2003/529_124078_171007_how_to_lose_a_guy_in_10_days.xml.gz with errors.\n"
     ]
    },
    {
     "name": "stderr",
     "output_type": "stream",
     "text": [
      "OpenSubtitles data files:  54%|█████▎    | 1245/2327 [04:37<05:26,  3.32it/s]"
     ]
    },
    {
     "name": "stdout",
     "output_type": "stream",
     "text": [
      "Skipping file /Users/xupengtong/Courses/10708/10708 project/others/DeepQA/data/opensubs/Comedy/2004/2480_226704_299940_little_black_book.xml.gz with errors.\n"
     ]
    },
    {
     "name": "stderr",
     "output_type": "stream",
     "text": [
      "OpenSubtitles data files:  75%|███████▍  | 1736/2327 [06:36<02:59,  3.29it/s]"
     ]
    },
    {
     "name": "stdout",
     "output_type": "stream",
     "text": [
      "Skipping file /Users/xupengtong/Courses/10708/10708 project/others/DeepQA/data/opensubs/Drama/2000/179_88528_119102_batoru_rowaiaru.xml.gz with errors.\n"
     ]
    },
    {
     "name": "stderr",
     "output_type": "stream",
     "text": [
      "OpenSubtitles data files:  79%|███████▉  | 1838/2327 [06:58<01:31,  5.33it/s]"
     ]
    },
    {
     "name": "stdout",
     "output_type": "stream",
     "text": [
      "Skipping file /Users/xupengtong/Courses/10708/10708 project/others/DeepQA/data/opensubs/Drama/2002/3265_149497_204017_unfaithful.xml.gz with errors.\n"
     ]
    },
    {
     "name": "stderr",
     "output_type": "stream",
     "text": [
      "OpenSubtitles data files:  81%|████████  | 1875/2327 [07:04<00:54,  8.34it/s]"
     ]
    },
    {
     "name": "stdout",
     "output_type": "stream",
     "text": [
      "Skipping file /Users/xupengtong/Courses/10708/10708 project/others/DeepQA/data/opensubs/Drama/2003/1723_68784_89159_big_fish.xml.gz with errors.\n"
     ]
    },
    {
     "name": "stderr",
     "output_type": "stream",
     "text": [
      "OpenSubtitles data files:  83%|████████▎ | 1937/2327 [07:16<01:14,  5.22it/s]"
     ]
    },
    {
     "name": "stdout",
     "output_type": "stream",
     "text": [
      "Skipping file /Users/xupengtong/Courses/10708/10708 project/others/DeepQA/data/opensubs/Drama/2004/146_206647_272090_eternal_sunshine_of_the_spotless_mind.xml.gz with errors.\n"
     ]
    },
    {
     "name": "stderr",
     "output_type": "stream",
     "text": [
      "OpenSubtitles data files:  89%|████████▉ | 2070/2327 [07:44<00:48,  5.34it/s]"
     ]
    },
    {
     "name": "stdout",
     "output_type": "stream",
     "text": [
      "Skipping file /Users/xupengtong/Courses/10708/10708 project/others/DeepQA/data/opensubs/Family/2001/3935_19508_22105_cats__dogs.xml.gz with errors.\n"
     ]
    },
    {
     "name": "stderr",
     "output_type": "stream",
     "text": [
      "OpenSubtitles data files:  90%|█████████ | 2098/2327 [07:49<00:44,  5.20it/s]"
     ]
    },
    {
     "name": "stdout",
     "output_type": "stream",
     "text": [
      "Skipping file /Users/xupengtong/Courses/10708/10708 project/others/DeepQA/data/opensubs/Horror/1922/1166_134135_184270_nosferatu_eine_symphonie_des_grauens.xml.gz with errors.\n"
     ]
    },
    {
     "name": "stderr",
     "output_type": "stream",
     "text": [
      "OpenSubtitles data files: 100%|██████████| 2327/2327 [08:33<00:00,  4.53it/s]\n"
     ]
    },
    {
     "ename": "TypeError",
     "evalue": "string indices must be integers, not str",
     "output_type": "error",
     "traceback": [
      "\u001b[0;31m---------------------------------------------------------------------------\u001b[0m",
      "\u001b[0;31mTypeError\u001b[0m                                 Traceback (most recent call last)",
      "\u001b[0;32m<ipython-input-2-7a33469c0d19>\u001b[0m in \u001b[0;36m<module>\u001b[0;34m()\u001b[0m\n\u001b[1;32m      6\u001b[0m \u001b[0;34m\u001b[0m\u001b[0m\n\u001b[1;32m      7\u001b[0m \u001b[0mdata\u001b[0m \u001b[0;34m=\u001b[0m \u001b[0mOpensubsData\u001b[0m\u001b[0;34m(\u001b[0m\u001b[0mPATH\u001b[0m\u001b[0;34m)\u001b[0m\u001b[0;34m\u001b[0m\u001b[0m\n\u001b[0;32m----> 8\u001b[0;31m \u001b[0msentences\u001b[0m \u001b[0;34m=\u001b[0m \u001b[0;34m[\u001b[0m\u001b[0;34m[\u001b[0m\u001b[0mj\u001b[0m\u001b[0;34m[\u001b[0m\u001b[0;34m'text'\u001b[0m\u001b[0;34m]\u001b[0m \u001b[0;32mfor\u001b[0m \u001b[0mj\u001b[0m \u001b[0;32min\u001b[0m \u001b[0mi\u001b[0m\u001b[0;34m]\u001b[0m \u001b[0;32mfor\u001b[0m \u001b[0mi\u001b[0m \u001b[0;32min\u001b[0m \u001b[0mdata\u001b[0m\u001b[0;34m.\u001b[0m\u001b[0mconversations\u001b[0m\u001b[0;34m]\u001b[0m\u001b[0;34m\u001b[0m\u001b[0m\n\u001b[0m\u001b[1;32m      9\u001b[0m \u001b[0mflatten\u001b[0m \u001b[0;34m=\u001b[0m \u001b[0;32mlambda\u001b[0m \u001b[0ml\u001b[0m\u001b[0;34m:\u001b[0m \u001b[0;34m[\u001b[0m\u001b[0mitem\u001b[0m \u001b[0;32mfor\u001b[0m \u001b[0msublist\u001b[0m \u001b[0;32min\u001b[0m \u001b[0ml\u001b[0m \u001b[0;32mfor\u001b[0m \u001b[0mitem\u001b[0m \u001b[0;32min\u001b[0m \u001b[0msublist\u001b[0m\u001b[0;34m]\u001b[0m\u001b[0;34m\u001b[0m\u001b[0m\n\u001b[1;32m     10\u001b[0m \u001b[0msentences\u001b[0m \u001b[0;34m=\u001b[0m \u001b[0mflatten\u001b[0m\u001b[0;34m(\u001b[0m\u001b[0msentences\u001b[0m\u001b[0;34m)\u001b[0m\u001b[0;34m\u001b[0m\u001b[0m\n",
      "\u001b[0;31mTypeError\u001b[0m: string indices must be integers, not str"
     ]
    }
   ],
   "source": [
    "import numpy as np\n",
    "\n",
    "from preprocess import OpensubsData\n",
    "\n",
    "PATH = \"/Users/xupengtong/Courses/10708/10708 project/others/DeepQA/data/opensubs/\"\n",
    "\n",
    "data = OpensubsData(PATH)\n",
    "sentences = [[j['text'] for j in i] for i in data.conversations]\n",
    "flatten = lambda l: [item for sublist in l for item in sublist]\n",
    "sentences = flatten(sentences)\n",
    "sentences = list(set(sentences))\n",
    "\n",
    "# words = [s.split() for s in sentences]\n",
    "# words = np.array(words)\n",
    "# words = words[1:]\n",
    "\n",
    "# np.save('sentences_as_list.npy', words)"
   ]
  },
  {
   "cell_type": "code",
   "execution_count": 8,
   "metadata": {
    "collapsed": false
   },
   "outputs": [
    {
     "data": {
      "text/plain": [
       "[{'text': 'right , then . go straight to the office ...'},\n",
       " {'text': \"don' t dawdle on the way\"}]"
      ]
     },
     "execution_count": 8,
     "metadata": {},
     "output_type": "execute_result"
    }
   ],
   "source": [
    "data.conversations[0]['lines']"
   ]
  },
  {
   "cell_type": "code",
   "execution_count": 10,
   "metadata": {
    "collapsed": false
   },
   "outputs": [
    {
     "name": "stderr",
     "output_type": "stream",
     "text": [
      "\n",
      "\n",
      "OpenSubtitles data files:   0%|          | 0/2327 [00:00<?, ?it/s]\u001b[A\u001b[A\n",
      "\n",
      "OpenSubtitles data files:   0%|          | 5/2327 [00:00<00:57, 40.28it/s]"
     ]
    },
    {
     "name": "stdout",
     "output_type": "stream",
     "text": [
      "Loading OpenSubtitles conversations in /Users/xupengtong/Courses/10708/10708 project/others/DeepQA/data/opensubs/.\n"
     ]
    },
    {
     "name": "stderr",
     "output_type": "stream",
     "text": [
      "\u001b[A\u001b[A\n",
      "\n",
      "OpenSubtitles data files:   0%|          | 7/2327 [00:00<01:57, 19.73it/s]\u001b[A\u001b[A\n",
      "\n",
      "OpenSubtitles data files:   0%|          | 9/2327 [00:00<02:55, 13.19it/s]\u001b[A\u001b[A\n",
      "\n",
      "OpenSubtitles data files:   0%|          | 11/2327 [00:01<04:26,  8.68it/s]\u001b[A\u001b[A\n",
      "\n",
      "OpenSubtitles data files:   1%|          | 12/2327 [00:01<04:42,  8.18it/s]\u001b[A\u001b[A\n",
      "\n",
      "OpenSubtitles data files:   1%|          | 13/2327 [00:01<05:48,  6.64it/s]\u001b[A\u001b[A\n",
      "\n",
      "OpenSubtitles data files:   1%|          | 14/2327 [00:01<05:14,  7.37it/s]\u001b[A\u001b[A\n",
      "\n",
      "OpenSubtitles data files:   1%|          | 15/2327 [00:02<18:31,  2.08it/s]\u001b[A\u001b[A\n",
      "\n",
      "OpenSubtitles data files:   1%|          | 16/2327 [00:02<15:33,  2.48it/s]\u001b[A\u001b[A\n",
      "\n",
      "OpenSubtitles data files:   1%|          | 17/2327 [00:03<13:03,  2.95it/s]\u001b[A\u001b[A\n",
      "\n",
      "OpenSubtitles data files:   1%|          | 18/2327 [00:03<11:08,  3.45it/s]\u001b[A\u001b[A\n",
      "\n",
      "OpenSubtitles data files:   1%|          | 19/2327 [00:03<12:27,  3.09it/s]\u001b[A\u001b[A\n",
      "\n",
      "OpenSubtitles data files:   1%|          | 20/2327 [00:04<12:02,  3.20it/s]\u001b[A\u001b[A\n",
      "\n",
      "OpenSubtitles data files:   1%|          | 21/2327 [00:04<11:36,  3.31it/s]\u001b[A\u001b[A\n",
      "\n",
      "OpenSubtitles data files:   1%|          | 22/2327 [00:04<09:48,  3.92it/s]\u001b[A\u001b[A\n",
      "\n",
      "OpenSubtitles data files:   1%|          | 23/2327 [00:04<08:16,  4.64it/s]\u001b[A\u001b[A\n",
      "\n",
      "OpenSubtitles data files:   1%|          | 25/2327 [00:04<07:11,  5.34it/s]\u001b[A\u001b[A\n",
      "\n",
      "OpenSubtitles data files:   1%|          | 27/2327 [00:05<06:00,  6.38it/s]\u001b[A\u001b[A\n",
      "\n",
      "OpenSubtitles data files:   1%|          | 28/2327 [00:05<05:40,  6.76it/s]\u001b[A\u001b[A\n",
      "\n",
      "OpenSubtitles data files:   1%|          | 29/2327 [00:05<05:30,  6.96it/s]\u001b[A\u001b[A\n",
      "\n",
      "OpenSubtitles data files:   1%|▏         | 30/2327 [00:05<05:04,  7.55it/s]\u001b[A\u001b[A\n",
      "\u001b[A\n",
      "\n",
      "OpenSubtitles data files:   1%|▏         | 31/2327 [00:05<05:16,  7.26it/s]\u001b[A\u001b[A\n",
      "\n",
      "OpenSubtitles data files:   1%|▏         | 33/2327 [00:05<04:27,  8.57it/s]\u001b[A\u001b[A\n",
      "\n",
      "OpenSubtitles data files:   2%|▏         | 35/2327 [00:05<04:01,  9.49it/s]\u001b[A\u001b[A\n",
      "\n",
      "OpenSubtitles data files:   2%|▏         | 37/2327 [00:06<04:45,  8.03it/s]\u001b[A\u001b[A\n",
      "\n",
      "OpenSubtitles data files:   2%|▏         | 39/2327 [00:06<04:02,  9.42it/s]\u001b[A\u001b[A\n",
      "\n",
      "OpenSubtitles data files:   2%|▏         | 41/2327 [00:06<05:28,  6.96it/s]\u001b[A\u001b[A\n",
      "\n",
      "OpenSubtitles data files:   2%|▏         | 42/2327 [00:06<05:09,  7.38it/s]\u001b[A\u001b[A\n",
      "\n",
      "OpenSubtitles data files:   2%|▏         | 43/2327 [00:08<20:07,  1.89it/s]\u001b[A\u001b[A\n",
      "\n",
      "OpenSubtitles data files:   2%|▏         | 45/2327 [00:08<14:49,  2.56it/s]\u001b[A\u001b[A\n",
      "\n",
      "OpenSubtitles data files:   2%|▏         | 47/2327 [00:08<12:06,  3.14it/s]\u001b[A\u001b[A\n",
      "\n",
      "OpenSubtitles data files:   2%|▏         | 48/2327 [00:08<09:38,  3.94it/s]\u001b[A\u001b[A\n",
      "\n",
      "OpenSubtitles data files:   2%|▏         | 49/2327 [00:08<08:16,  4.59it/s]\u001b[A\u001b[A\n",
      "\n",
      "OpenSubtitles data files:   2%|▏         | 51/2327 [00:09<06:51,  5.53it/s]\u001b[A\u001b[A\n",
      "\n",
      "OpenSubtitles data files:   2%|▏         | 52/2327 [00:09<06:25,  5.89it/s]\u001b[A\u001b[A\n",
      "\n",
      "OpenSubtitles data files:   2%|▏         | 53/2327 [00:09<05:40,  6.67it/s]\u001b[A\u001b[A\n",
      "\n",
      "OpenSubtitles data files:   2%|▏         | 54/2327 [00:09<05:14,  7.23it/s]\u001b[A\u001b[A\n",
      "\n",
      "OpenSubtitles data files:   2%|▏         | 55/2327 [00:09<05:37,  6.73it/s]\u001b[A\u001b[A\n",
      "\n",
      "OpenSubtitles data files:   2%|▏         | 56/2327 [00:09<06:10,  6.12it/s]\u001b[A\u001b[A\n",
      "\n",
      "OpenSubtitles data files:   2%|▏         | 57/2327 [00:10<06:01,  6.27it/s]\u001b[A\u001b[A\n",
      "\n",
      "OpenSubtitles data files:   3%|▎         | 59/2327 [00:10<05:26,  6.95it/s]\u001b[A\u001b[A\n",
      "\n",
      "OpenSubtitles data files:   3%|▎         | 61/2327 [00:10<04:40,  8.08it/s]\u001b[A\u001b[A\n",
      "\n",
      "OpenSubtitles data files:   3%|▎         | 62/2327 [00:10<04:26,  8.49it/s]\u001b[A\u001b[A\n",
      "\n",
      "OpenSubtitles data files:   3%|▎         | 64/2327 [00:10<04:35,  8.21it/s]\u001b[A\u001b[A\n",
      "\n",
      "OpenSubtitles data files:   3%|▎         | 65/2327 [00:10<04:43,  7.99it/s]\u001b[A\u001b[A\n",
      "\n",
      "OpenSubtitles data files:   3%|▎         | 66/2327 [00:11<05:10,  7.28it/s]\u001b[A\u001b[A\n",
      "\n",
      "OpenSubtitles data files:   3%|▎         | 67/2327 [00:11<05:50,  6.46it/s]\u001b[A\u001b[A\n",
      "\n",
      "OpenSubtitles data files:   3%|▎         | 68/2327 [00:11<06:43,  5.61it/s]\u001b[A\u001b[A\n",
      "\n",
      "OpenSubtitles data files:   3%|▎         | 69/2327 [00:11<06:07,  6.15it/s]\u001b[A\u001b[A\n",
      "\n",
      "OpenSubtitles data files:   3%|▎         | 70/2327 [00:11<05:41,  6.61it/s]\u001b[A\u001b[A\n",
      "\n",
      "OpenSubtitles data files:   3%|▎         | 71/2327 [00:11<06:19,  5.94it/s]\u001b[A\u001b[A\n",
      "\n",
      "OpenSubtitles data files:   3%|▎         | 72/2327 [00:12<07:22,  5.10it/s]\u001b[A\u001b[A\n",
      "\n",
      "OpenSubtitles data files:   3%|▎         | 73/2327 [00:13<22:46,  1.65it/s]\u001b[A\u001b[A\n",
      "\n",
      "OpenSubtitles data files:   3%|▎         | 74/2327 [00:13<18:11,  2.06it/s]\u001b[A\u001b[A\n",
      "\n",
      "OpenSubtitles data files:   3%|▎         | 76/2327 [00:14<14:02,  2.67it/s]\u001b[A\u001b[A\n",
      "\n",
      "OpenSubtitles data files:   3%|▎         | 78/2327 [00:14<11:12,  3.34it/s]\u001b[A\u001b[A\n",
      "\n",
      "OpenSubtitles data files:   3%|▎         | 79/2327 [00:14<09:01,  4.15it/s]\u001b[A\u001b[A\n",
      "\n",
      "OpenSubtitles data files:   3%|▎         | 81/2327 [00:14<07:00,  5.34it/s]\u001b[A\u001b[A\n",
      "\n",
      "OpenSubtitles data files:   4%|▎         | 82/2327 [00:14<06:14,  6.00it/s]\u001b[A\u001b[A\n",
      "\n",
      "OpenSubtitles data files:   4%|▎         | 83/2327 [00:14<05:30,  6.79it/s]\u001b[A\u001b[A\n",
      "\n",
      "OpenSubtitles data files:   4%|▎         | 85/2327 [00:15<05:16,  7.08it/s]\u001b[A\u001b[A\n",
      "\n",
      "OpenSubtitles data files:   4%|▎         | 87/2327 [00:15<05:03,  7.37it/s]\u001b[A\u001b[A\n",
      "\n",
      "OpenSubtitles data files:   4%|▍         | 88/2327 [00:15<06:06,  6.11it/s]\u001b[A\u001b[A\n",
      "\n",
      "OpenSubtitles data files:   4%|▍         | 89/2327 [00:15<05:47,  6.44it/s]\u001b[A\u001b[A\n",
      "\n",
      "OpenSubtitles data files:   4%|▍         | 91/2327 [00:15<05:08,  7.25it/s]\u001b[A\u001b[A\n",
      "\n",
      "OpenSubtitles data files:   4%|▍         | 92/2327 [00:16<04:56,  7.54it/s]\u001b[A\u001b[A\n",
      "\n",
      "OpenSubtitles data files:   4%|▍         | 93/2327 [00:16<04:39,  8.01it/s]\u001b[A\u001b[A\n",
      "\n",
      "OpenSubtitles data files:   4%|▍         | 95/2327 [00:16<05:21,  6.93it/s]\u001b[A\u001b[A\n",
      "\n",
      "OpenSubtitles data files:   4%|▍         | 96/2327 [00:16<06:14,  5.96it/s]\u001b[A\u001b[A\n",
      "\n",
      "OpenSubtitles data files:   4%|▍         | 98/2327 [00:17<05:56,  6.25it/s]\u001b[A\u001b[A\n",
      "\n",
      "OpenSubtitles data files:   4%|▍         | 99/2327 [00:17<07:16,  5.11it/s]\u001b[A\u001b[A\n",
      "\n",
      "OpenSubtitles data files:   4%|▍         | 100/2327 [00:17<06:22,  5.82it/s]\u001b[A\u001b[A\n",
      "\n",
      "OpenSubtitles data files:   4%|▍         | 101/2327 [00:17<06:28,  5.72it/s]\u001b[A\u001b[A\n",
      "\n",
      "OpenSubtitles data files:   4%|▍         | 102/2327 [00:17<07:07,  5.20it/s]\u001b[A\u001b[A\n",
      "\n",
      "OpenSubtitles data files:   4%|▍         | 103/2327 [00:19<21:06,  1.76it/s]\u001b[A\u001b[A\n",
      "\n",
      "OpenSubtitles data files:   5%|▍         | 105/2327 [00:19<16:47,  2.21it/s]\u001b[A\u001b[A\n",
      "\n",
      "OpenSubtitles data files:   5%|▍         | 106/2327 [00:19<14:47,  2.50it/s]\u001b[A\u001b[A\n",
      "\n",
      "OpenSubtitles data files:   5%|▍         | 108/2327 [00:20<11:31,  3.21it/s]\u001b[A\u001b[A\n",
      "\n",
      "OpenSubtitles data files:   5%|▍         | 109/2327 [00:20<10:39,  3.47it/s]\u001b[A\u001b[A\n",
      "\n",
      "OpenSubtitles data files:   5%|▍         | 110/2327 [00:20<10:21,  3.56it/s]\u001b[A\u001b[A\n",
      "\n",
      "OpenSubtitles data files:   5%|▍         | 111/2327 [00:21<10:30,  3.51it/s]\u001b[A\u001b[A\n",
      "\n",
      "OpenSubtitles data files:   5%|▍         | 112/2327 [00:21<08:57,  4.12it/s]\u001b[A\u001b[A\n",
      "\n",
      "OpenSubtitles data files:   5%|▍         | 113/2327 [00:21<07:27,  4.95it/s]\u001b[A\u001b[A\n",
      "\n",
      "OpenSubtitles data files:   5%|▍         | 114/2327 [00:21<06:50,  5.38it/s]\u001b[A\u001b[A\n",
      "\n",
      "OpenSubtitles data files:   5%|▍         | 115/2327 [00:21<06:40,  5.52it/s]\u001b[A\u001b[A\n",
      "\n",
      "OpenSubtitles data files:   5%|▍         | 116/2327 [00:21<06:28,  5.68it/s]\u001b[A\u001b[A\n",
      "\n",
      "OpenSubtitles data files:   5%|▌         | 117/2327 [00:21<06:36,  5.58it/s]\u001b[A\u001b[A\n",
      "\n",
      "OpenSubtitles data files:   5%|▌         | 118/2327 [00:22<06:29,  5.67it/s]\u001b[A\u001b[A\n",
      "\n",
      "OpenSubtitles data files:   5%|▌         | 119/2327 [00:22<06:53,  5.34it/s]\u001b[A\u001b[A\n",
      "\n",
      "OpenSubtitles data files:   5%|▌         | 120/2327 [00:22<06:53,  5.34it/s]\u001b[A\u001b[A\n",
      "\n",
      "OpenSubtitles data files:   5%|▌         | 121/2327 [00:22<06:42,  5.48it/s]\u001b[A\u001b[A\n",
      "\n",
      "OpenSubtitles data files:   5%|▌         | 122/2327 [00:22<07:14,  5.08it/s]\u001b[A\u001b[A\n",
      "\n",
      "OpenSubtitles data files:   5%|▌         | 123/2327 [00:23<06:18,  5.83it/s]\u001b[A\u001b[A\n",
      "\n",
      "OpenSubtitles data files:   5%|▌         | 124/2327 [00:23<07:17,  5.04it/s]\u001b[A\u001b[A\n",
      "\n",
      "OpenSubtitles data files:   5%|▌         | 125/2327 [00:23<07:11,  5.11it/s]\u001b[A\u001b[A\n",
      "\n",
      "OpenSubtitles data files:   5%|▌         | 126/2327 [00:24<21:03,  1.74it/s]\u001b[A\u001b[A\n",
      "\n",
      "OpenSubtitles data files:   6%|▌         | 128/2327 [00:25<16:06,  2.28it/s]\u001b[A\u001b[A\n",
      "\n",
      "OpenSubtitles data files:   6%|▌         | 129/2327 [00:25<13:10,  2.78it/s]\u001b[A\u001b[A\n",
      "\n",
      "OpenSubtitles data files:   6%|▌         | 130/2327 [00:25<10:33,  3.47it/s]\u001b[A\u001b[A\n",
      "\n",
      "OpenSubtitles data files:   6%|▌         | 131/2327 [00:25<09:08,  4.00it/s]\u001b[A\u001b[A\n",
      "\n",
      "OpenSubtitles data files:   6%|▌         | 132/2327 [00:25<10:03,  3.64it/s]\u001b[A\u001b[A\n",
      "\n",
      "OpenSubtitles data files:   6%|▌         | 133/2327 [00:26<10:20,  3.54it/s]\u001b[A\u001b[A\n",
      "\n",
      "OpenSubtitles data files:   6%|▌         | 134/2327 [00:26<09:01,  4.05it/s]\u001b[A\u001b[A\n",
      "\n",
      "OpenSubtitles data files:   6%|▌         | 135/2327 [00:26<07:40,  4.76it/s]\u001b[A\u001b[A\n",
      "\n",
      "OpenSubtitles data files:   6%|▌         | 137/2327 [00:26<07:00,  5.20it/s]\u001b[A\u001b[A\n",
      "\n",
      "OpenSubtitles data files:   6%|▌         | 138/2327 [00:26<06:00,  6.08it/s]\u001b[A\u001b[A\n",
      "\n",
      "OpenSubtitles data files:   6%|▌         | 139/2327 [00:27<05:28,  6.67it/s]\u001b[A\u001b[A\n",
      "\n",
      "OpenSubtitles data files:   6%|▌         | 140/2327 [00:27<06:24,  5.68it/s]\u001b[A\u001b[A\n",
      "\n",
      "OpenSubtitles data files:   6%|▌         | 141/2327 [00:27<07:34,  4.81it/s]\u001b[A\u001b[A\n",
      "\n",
      "OpenSubtitles data files:   6%|▌         | 142/2327 [00:27<07:11,  5.06it/s]\u001b[A\u001b[A\n",
      "\n",
      "OpenSubtitles data files:   6%|▌         | 144/2327 [00:28<06:33,  5.55it/s]\u001b[A\u001b[A\n",
      "\n",
      "OpenSubtitles data files:   6%|▌         | 145/2327 [00:28<06:22,  5.71it/s]\u001b[A\u001b[A\n",
      "\n",
      "OpenSubtitles data files:   6%|▋         | 146/2327 [00:28<06:22,  5.70it/s]\u001b[A\u001b[A\n",
      "\n",
      "OpenSubtitles data files:   6%|▋         | 147/2327 [00:28<08:42,  4.18it/s]\u001b[A\u001b[A\n",
      "\n",
      "OpenSubtitles data files:   6%|▋         | 148/2327 [00:28<07:59,  4.54it/s]\u001b[A\u001b[A\n",
      "\n",
      "OpenSubtitles data files:   6%|▋         | 149/2327 [00:29<07:13,  5.03it/s]\u001b[A\u001b[A\n",
      "\n",
      "OpenSubtitles data files:   6%|▋         | 150/2327 [00:30<19:55,  1.82it/s]\u001b[A\u001b[A\n",
      "\n",
      "OpenSubtitles data files:   6%|▋         | 151/2327 [00:30<15:06,  2.40it/s]\u001b[A\u001b[A\n",
      "\n",
      "OpenSubtitles data files:   7%|▋         | 152/2327 [00:30<13:19,  2.72it/s]\u001b[A\u001b[A\n",
      "\n",
      "OpenSubtitles data files:   7%|▋         | 153/2327 [00:31<11:51,  3.06it/s]\u001b[A\u001b[A\n",
      "\n",
      "OpenSubtitles data files:   7%|▋         | 154/2327 [00:31<09:53,  3.66it/s]\u001b[A\u001b[A\n",
      "\n",
      "OpenSubtitles data files:   7%|▋         | 156/2327 [00:31<08:35,  4.21it/s]\u001b[A\u001b[A\n",
      "\n",
      "OpenSubtitles data files:   7%|▋         | 157/2327 [00:31<08:21,  4.33it/s]\u001b[A\u001b[A\n",
      "\n",
      "OpenSubtitles data files:   7%|▋         | 158/2327 [00:31<08:01,  4.50it/s]\u001b[A\u001b[A\n",
      "\n",
      "OpenSubtitles data files:   7%|▋         | 160/2327 [00:32<07:04,  5.10it/s]\u001b[A\u001b[A\n",
      "\n",
      "OpenSubtitles data files:   7%|▋         | 161/2327 [00:32<08:15,  4.37it/s]\u001b[A\u001b[A\n",
      "\n",
      "OpenSubtitles data files:   7%|▋         | 162/2327 [00:32<07:06,  5.08it/s]\u001b[A\u001b[A\n",
      "\n",
      "OpenSubtitles data files:   7%|▋         | 164/2327 [00:32<05:45,  6.25it/s]\u001b[A\u001b[A\n",
      "\n",
      "OpenSubtitles data files:   7%|▋         | 165/2327 [00:32<06:27,  5.58it/s]\u001b[A\u001b[A\n",
      "\n",
      "OpenSubtitles data files:   7%|▋         | 166/2327 [00:33<06:43,  5.36it/s]\u001b[A\u001b[A\n",
      "\n",
      "OpenSubtitles data files:   7%|▋         | 167/2327 [00:33<07:18,  4.93it/s]\u001b[A\u001b[A\n",
      "\n",
      "OpenSubtitles data files:   7%|▋         | 168/2327 [00:33<06:47,  5.30it/s]\u001b[A\u001b[A\n",
      "\n",
      "OpenSubtitles data files:   7%|▋         | 169/2327 [00:33<06:03,  5.93it/s]\u001b[A\u001b[A\n",
      "\n",
      "OpenSubtitles data files:   7%|▋         | 170/2327 [00:33<05:26,  6.61it/s]\u001b[A\u001b[A\n",
      "\n",
      "OpenSubtitles data files:   7%|▋         | 171/2327 [00:33<04:58,  7.23it/s]\u001b[A\u001b[A\n",
      "\n",
      "OpenSubtitles data files:   7%|▋         | 173/2327 [00:34<04:36,  7.80it/s]\u001b[A\u001b[A\n",
      "\n",
      "OpenSubtitles data files:   7%|▋         | 174/2327 [00:34<04:21,  8.25it/s]\u001b[A\u001b[A\n",
      "\n",
      "OpenSubtitles data files:   8%|▊         | 176/2327 [00:34<04:04,  8.80it/s]\u001b[A\u001b[A\n",
      "\n",
      "OpenSubtitles data files:   8%|▊         | 177/2327 [00:35<17:25,  2.06it/s]\u001b[A\u001b[A\n",
      "\n",
      "OpenSubtitles data files:   8%|▊         | 178/2327 [00:35<13:59,  2.56it/s]\u001b[A\u001b[A\n",
      "\n",
      "OpenSubtitles data files:   8%|▊         | 179/2327 [00:36<12:02,  2.97it/s]\u001b[A\u001b[A\n",
      "\n",
      "OpenSubtitles data files:   8%|▊         | 180/2327 [00:36<10:34,  3.38it/s]\u001b[A\u001b[A\n",
      "\n",
      "OpenSubtitles data files:   8%|▊         | 181/2327 [00:36<11:42,  3.06it/s]\u001b[A\u001b[A\n",
      "\n",
      "OpenSubtitles data files:   8%|▊         | 182/2327 [00:36<10:23,  3.44it/s]\u001b[A\u001b[A\n",
      "\n",
      "OpenSubtitles data files:   8%|▊         | 183/2327 [00:37<09:27,  3.78it/s]\u001b[A\u001b[A\n",
      "\n",
      "OpenSubtitles data files:   8%|▊         | 184/2327 [00:37<08:42,  4.10it/s]\u001b[A\u001b[A\n",
      "\n",
      "OpenSubtitles data files:   8%|▊         | 185/2327 [00:37<09:16,  3.85it/s]\u001b[A\u001b[A\n",
      "\n",
      "OpenSubtitles data files:   8%|▊         | 186/2327 [00:37<08:13,  4.34it/s]\u001b[A\u001b[A\n",
      "\n",
      "OpenSubtitles data files:   8%|▊         | 187/2327 [00:38<07:51,  4.54it/s]\u001b[A\u001b[A\n",
      "\n",
      "OpenSubtitles data files:   8%|▊         | 189/2327 [00:38<06:45,  5.27it/s]\u001b[A\u001b[A\n",
      "\n",
      "OpenSubtitles data files:   8%|▊         | 190/2327 [00:38<06:55,  5.15it/s]\u001b[A\u001b[A\n",
      "\n",
      "OpenSubtitles data files:   8%|▊         | 191/2327 [00:38<07:31,  4.73it/s]\u001b[A\u001b[A\n",
      "\n",
      "OpenSubtitles data files:   8%|▊         | 192/2327 [00:38<06:52,  5.18it/s]\u001b[A\u001b[A\n",
      "\n",
      "OpenSubtitles data files:   8%|▊         | 193/2327 [00:39<07:28,  4.75it/s]\u001b[A\u001b[A\n",
      "\n",
      "OpenSubtitles data files:   8%|▊         | 194/2327 [00:39<07:51,  4.53it/s]\u001b[A\u001b[A\n",
      "\n",
      "OpenSubtitles data files:   8%|▊         | 195/2327 [00:39<07:21,  4.83it/s]\u001b[A\u001b[A\n",
      "\n",
      "OpenSubtitles data files:   8%|▊         | 196/2327 [00:39<07:05,  5.01it/s]\u001b[A\u001b[A\n",
      "\n",
      "OpenSubtitles data files:   9%|▊         | 198/2327 [00:39<06:21,  5.59it/s]\u001b[A\u001b[A\n",
      "\n",
      "OpenSubtitles data files:   9%|▊         | 199/2327 [00:41<21:07,  1.68it/s]\u001b[A\u001b[A\n",
      "\n",
      "OpenSubtitles data files:   9%|▊         | 200/2327 [00:41<16:09,  2.19it/s]\u001b[A\u001b[A\n",
      "\n",
      "OpenSubtitles data files:   9%|▊         | 201/2327 [00:41<13:13,  2.68it/s]\u001b[A\u001b[A\n",
      "\n",
      "OpenSubtitles data files:   9%|▊         | 203/2327 [00:42<10:45,  3.29it/s]\u001b[A\u001b[A\n",
      "\n",
      "OpenSubtitles data files:   9%|▉         | 204/2327 [00:42<10:18,  3.43it/s]\u001b[A\u001b[A\n",
      "\n",
      "OpenSubtitles data files:   9%|▉         | 205/2327 [00:42<08:27,  4.18it/s]\u001b[A\u001b[A\n",
      "\n",
      "OpenSubtitles data files:   9%|▉         | 206/2327 [00:42<07:01,  5.03it/s]\u001b[A\u001b[A\n",
      "\n",
      "OpenSubtitles data files:   9%|▉         | 208/2327 [00:42<05:41,  6.20it/s]\u001b[A\u001b[A\n",
      "\n",
      "OpenSubtitles data files:   9%|▉         | 210/2327 [00:43<05:13,  6.75it/s]\u001b[A\u001b[A\n",
      "\n",
      "OpenSubtitles data files:   9%|▉         | 211/2327 [00:43<04:50,  7.28it/s]\u001b[A\u001b[A\n",
      "\n",
      "OpenSubtitles data files:   9%|▉         | 212/2327 [00:43<05:45,  6.13it/s]\u001b[A\u001b[A\n",
      "\n",
      "OpenSubtitles data files:   9%|▉         | 213/2327 [00:43<05:22,  6.55it/s]\u001b[A\u001b[A\n",
      "\n",
      "OpenSubtitles data files:   9%|▉         | 214/2327 [00:43<05:39,  6.23it/s]\u001b[A\u001b[A"
     ]
    },
    {
     "ename": "TypeError",
     "evalue": "'module' object is not callable",
     "output_type": "error",
     "traceback": [
      "\u001b[0;31m---------------------------------------------------------------------------\u001b[0m",
      "\u001b[0;31mTypeError\u001b[0m                                 Traceback (most recent call last)",
      "\u001b[0;32m<ipython-input-10-ed6324d404d7>\u001b[0m in \u001b[0;36m<module>\u001b[0;34m()\u001b[0m\n\u001b[1;32m      1\u001b[0m \u001b[0;32mfrom\u001b[0m \u001b[0mpreprocess_time\u001b[0m \u001b[0;32mimport\u001b[0m \u001b[0mOpensubsData\u001b[0m \u001b[0;32mas\u001b[0m \u001b[0mOpensubsDataTime\u001b[0m\u001b[0;34m\u001b[0m\u001b[0m\n\u001b[1;32m      2\u001b[0m \u001b[0;34m\u001b[0m\u001b[0m\n\u001b[0;32m----> 3\u001b[0;31m \u001b[0mdata_context\u001b[0m \u001b[0;34m=\u001b[0m \u001b[0mOpensubsDataTime\u001b[0m\u001b[0;34m(\u001b[0m\u001b[0mPATH\u001b[0m\u001b[0;34m)\u001b[0m\u001b[0;34m\u001b[0m\u001b[0m\n\u001b[0m\u001b[1;32m      4\u001b[0m \u001b[0;34m\u001b[0m\u001b[0m\n\u001b[1;32m      5\u001b[0m \u001b[0mcontexts\u001b[0m \u001b[0;34m=\u001b[0m \u001b[0mfilter\u001b[0m\u001b[0;34m(\u001b[0m\u001b[0;32mlambda\u001b[0m \u001b[0mx\u001b[0m\u001b[0;34m:\u001b[0m\u001b[0mlen\u001b[0m\u001b[0;34m(\u001b[0m\u001b[0mx\u001b[0m\u001b[0;34m)\u001b[0m \u001b[0;34m>\u001b[0m \u001b[0;36m1\u001b[0m\u001b[0;34m,\u001b[0m \u001b[0mdata_context\u001b[0m\u001b[0;34m.\u001b[0m\u001b[0mconversations\u001b[0m\u001b[0;34m)\u001b[0m\u001b[0;34m\u001b[0m\u001b[0m\n",
      "\u001b[0;32m/Users/xupengtong/Courses/10708/10708 project/code/preprocess_time.pyc\u001b[0m in \u001b[0;36m__init__\u001b[0;34m(self, dirName)\u001b[0m\n\u001b[1;32m     33\u001b[0m         \u001b[0mself\u001b[0m\u001b[0;34m.\u001b[0m\u001b[0mconversations\u001b[0m \u001b[0;34m=\u001b[0m \u001b[0;34m[\u001b[0m\u001b[0;34m]\u001b[0m\u001b[0;34m\u001b[0m\u001b[0m\n\u001b[1;32m     34\u001b[0m         \u001b[0mself\u001b[0m\u001b[0;34m.\u001b[0m\u001b[0mtag_re\u001b[0m \u001b[0;34m=\u001b[0m \u001b[0mre\u001b[0m\u001b[0;34m.\u001b[0m\u001b[0mcompile\u001b[0m\u001b[0;34m(\u001b[0m\u001b[0;34mr'(<!--.*?-->|<[^>]*>)'\u001b[0m\u001b[0;34m)\u001b[0m\u001b[0;34m\u001b[0m\u001b[0m\n\u001b[0;32m---> 35\u001b[0;31m         \u001b[0mself\u001b[0m\u001b[0;34m.\u001b[0m\u001b[0mconversations\u001b[0m \u001b[0;34m=\u001b[0m \u001b[0mself\u001b[0m\u001b[0;34m.\u001b[0m\u001b[0mloadConversations\u001b[0m\u001b[0;34m(\u001b[0m\u001b[0mdirName\u001b[0m\u001b[0;34m)\u001b[0m\u001b[0;34m\u001b[0m\u001b[0m\n\u001b[0m\u001b[1;32m     36\u001b[0m \u001b[0;34m\u001b[0m\u001b[0m\n\u001b[1;32m     37\u001b[0m     \u001b[0;32mdef\u001b[0m \u001b[0mloadConversations\u001b[0m\u001b[0;34m(\u001b[0m\u001b[0mself\u001b[0m\u001b[0;34m,\u001b[0m \u001b[0mdirName\u001b[0m\u001b[0;34m)\u001b[0m\u001b[0;34m:\u001b[0m\u001b[0;34m\u001b[0m\u001b[0m\n",
      "\u001b[0;32m/Users/xupengtong/Courses/10708/10708 project/code/preprocess_time.pyc\u001b[0m in \u001b[0;36mloadConversations\u001b[0;34m(self, dirName)\u001b[0m\n\u001b[1;32m     53\u001b[0m                     \u001b[0mtqdm\u001b[0m\u001b[0;34m.\u001b[0m\u001b[0mwrite\u001b[0m\u001b[0;34m(\u001b[0m\u001b[0;34m\"Skipping file %s with errors.\"\u001b[0m \u001b[0;34m%\u001b[0m \u001b[0mfilepath\u001b[0m\u001b[0;34m)\u001b[0m\u001b[0;34m\u001b[0m\u001b[0m\n\u001b[1;32m     54\u001b[0m                 \u001b[0;32mexcept\u001b[0m\u001b[0;34m:\u001b[0m\u001b[0;34m\u001b[0m\u001b[0m\n\u001b[0;32m---> 55\u001b[0;31m                     \u001b[0mpprint\u001b[0m\u001b[0;34m(\u001b[0m\u001b[0;34m\"Unexpected error:\"\u001b[0m\u001b[0;34m,\u001b[0m \u001b[0msys\u001b[0m\u001b[0;34m.\u001b[0m\u001b[0mexc_info\u001b[0m\u001b[0;34m(\u001b[0m\u001b[0;34m)\u001b[0m\u001b[0;34m[\u001b[0m\u001b[0;36m0\u001b[0m\u001b[0;34m]\u001b[0m\u001b[0;34m)\u001b[0m\u001b[0;34m\u001b[0m\u001b[0m\n\u001b[0m\u001b[1;32m     56\u001b[0m                     \u001b[0;32mraise\u001b[0m\u001b[0;34m\u001b[0m\u001b[0m\n\u001b[1;32m     57\u001b[0m \u001b[0;34m\u001b[0m\u001b[0m\n",
      "\u001b[0;31mTypeError\u001b[0m: 'module' object is not callable"
     ]
    }
   ],
   "source": [
    "from preprocess_time import OpensubsData as OpensubsDataTime\n",
    "\n",
    "data_context = OpensubsDataTime(PATH)\n",
    "\n",
    "contexts = filter(lambda x:len(x) > 1, data_context.conversations)\n",
    "contexts = [[line['text'] for line in c] for c in contexts]\n",
    "\n",
    "contexts_array = np.array(contexts)\n",
    "\n",
    "np.save('context_sentences.npy', contexts_array)"
   ]
  },
  {
   "cell_type": "code",
   "execution_count": 12,
   "metadata": {
    "collapsed": false
   },
   "outputs": [],
   "source": [
    "context_sentences = np.load('context_sentences.npy')"
   ]
  },
  {
   "cell_type": "code",
   "execution_count": 27,
   "metadata": {
    "collapsed": false
   },
   "outputs": [
    {
     "data": {
      "text/plain": [
       "array([ ['right , then . go straight to the office ...', \"don' t dawdle on the way\", \"don' t worry\"],\n",
       "       ['is your mother here , too ?', 'why are you outside ?', \"it' s no fun listening to women' s talk\", \"well , why don' t we go in together ?\", \"i' m fine out here\", 'right , you wait out here'],\n",
       "       ['aunty ! tell mom ...', \"if she' s not out soon , i' m leaving !\", \"i' il tell her\"],\n",
       "       ['mrs. ishino has arrived', 'good'],\n",
       "       ['welcome', 'please come in', \"i hope you' re well\", 'been here long ?', 'a little while']], dtype=object)"
      ]
     },
     "execution_count": 27,
     "metadata": {},
     "output_type": "execute_result"
    }
   ],
   "source": [
    "context_sentences[:5]"
   ]
  }
 ],
 "metadata": {
  "kernelspec": {
   "display_name": "Python 2",
   "language": "python",
   "name": "python2"
  },
  "language_info": {
   "codemirror_mode": {
    "name": "ipython",
    "version": 2
   },
   "file_extension": ".py",
   "mimetype": "text/x-python",
   "name": "python",
   "nbconvert_exporter": "python",
   "pygments_lexer": "ipython2",
   "version": "2.7.13"
  }
 },
 "nbformat": 4,
 "nbformat_minor": 2
}
