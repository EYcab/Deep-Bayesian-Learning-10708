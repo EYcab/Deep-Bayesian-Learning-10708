{
 "cells": [
  {
   "cell_type": "code",
   "execution_count": 3,
   "metadata": {
    "collapsed": false
   },
   "outputs": [],
   "source": [
    "import numpy as np\n",
    "\n",
    "from preprocess import OpensubsData\n",
    "\n",
    "PATH = \"/Users/xupengtong/Courses/10708/10708 project/others/DeepQA/data/opensubs/\"\n",
    "\n",
    "data = OpensubsData(PATH)\n",
    "sentences = [[j['text'] for j in i] for i in data.conversations]\n",
    "flatten = lambda l: [item for sublist in l for item in sublist]\n",
    "sentences = flatten(sentences)\n",
    "sentences = list(set(sentences))\n",
    "\n",
    "# words = [s.split() for s in sentences]\n",
    "# words = np.array(words)\n",
    "# words = words[1:]\n",
    "\n",
    "# np.save('sentences_as_list.npy', words)"
   ]
  },
  {
   "cell_type": "code",
   "execution_count": 4,
   "metadata": {
    "collapsed": false
   },
   "outputs": [],
   "source": [
    "from preprocess_time import OpensubsData as OpensubsDataTime\n",
    "\n",
    "data_context = OpensubsDataTime(PATH)\n",
    "\n",
    "contexts = filter(lambda x:len(x) > 1, data.conversations)\n",
    "contexts = [[line['text'] for line in c] for c in contexts]\n",
    "\n",
    "contexts_array = np.array(contexts)\n",
    "\n",
    "# np.save('context_sentences.npy', contexts_array)"
   ]
  }
 ],
 "metadata": {
  "kernelspec": {
   "display_name": "Python 2",
   "language": "python",
   "name": "python2"
  },
  "language_info": {
   "codemirror_mode": {
    "name": "ipython",
    "version": 2
   },
   "file_extension": ".py",
   "mimetype": "text/x-python",
   "name": "python",
   "nbconvert_exporter": "python",
   "pygments_lexer": "ipython2",
   "version": "2.7.13"
  }
 },
 "nbformat": 4,
 "nbformat_minor": 2
}
